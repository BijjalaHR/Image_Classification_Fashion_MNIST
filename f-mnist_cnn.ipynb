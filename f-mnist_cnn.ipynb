{
 "cells": [
  {
   "cell_type": "markdown",
   "metadata": {},
   "source": [
    "### Import all necessary libraries"
   ]
  },
  {
   "cell_type": "code",
   "execution_count": 1,
   "metadata": {},
   "outputs": [
    {
     "name": "stderr",
     "output_type": "stream",
     "text": [
      "Using TensorFlow backend.\n"
     ]
    }
   ],
   "source": [
    "import numpy as np\n",
    "import matplotlib.pyplot as plt\n",
    "from keras.utils import to_categorical\n",
    "from keras.models import Sequential\n",
    "from keras.layers import Dense, Flatten, Dropout, MaxPooling2D, Conv2D\n",
    "from keras.optimizers import Adam\n",
    "from keras.callbacks import ModelCheckpoint, Callback\n",
    "import time\n",
    "from sklearn.metrics import confusion_matrix\n",
    "import pandas as pd"
   ]
  },
  {
   "cell_type": "markdown",
   "metadata": {},
   "source": [
    "### Data Import"
   ]
  },
  {
   "cell_type": "code",
   "execution_count": 2,
   "metadata": {},
   "outputs": [],
   "source": [
    "from keras.datasets import fashion_mnist\n",
    "((x_train, y_train), (x_test, y_test)) = fashion_mnist.load_data()"
   ]
  },
  {
   "cell_type": "markdown",
   "metadata": {},
   "source": [
    "### Getting to know the data"
   ]
  },
  {
   "cell_type": "code",
   "execution_count": 3,
   "metadata": {},
   "outputs": [
    {
     "data": {
      "text/plain": [
       "numpy.ndarray"
      ]
     },
     "execution_count": 3,
     "metadata": {},
     "output_type": "execute_result"
    }
   ],
   "source": [
    "type(x_train)"
   ]
  },
  {
   "cell_type": "code",
   "execution_count": 4,
   "metadata": {},
   "outputs": [
    {
     "data": {
      "text/plain": [
       "numpy.ndarray"
      ]
     },
     "execution_count": 4,
     "metadata": {},
     "output_type": "execute_result"
    }
   ],
   "source": [
    "type(y_train)"
   ]
  },
  {
   "cell_type": "code",
   "execution_count": 5,
   "metadata": {},
   "outputs": [
    {
     "data": {
      "text/plain": [
       "numpy.ndarray"
      ]
     },
     "execution_count": 5,
     "metadata": {},
     "output_type": "execute_result"
    }
   ],
   "source": [
    "type(x_test)"
   ]
  },
  {
   "cell_type": "code",
   "execution_count": 6,
   "metadata": {},
   "outputs": [
    {
     "data": {
      "text/plain": [
       "numpy.ndarray"
      ]
     },
     "execution_count": 6,
     "metadata": {},
     "output_type": "execute_result"
    }
   ],
   "source": [
    "type(y_test)"
   ]
  },
  {
   "cell_type": "markdown",
   "metadata": {},
   "source": [
    "All four datasets are numpy arrays."
   ]
  },
  {
   "cell_type": "code",
   "execution_count": 7,
   "metadata": {},
   "outputs": [
    {
     "data": {
      "text/plain": [
       "(60000, 28, 28)"
      ]
     },
     "execution_count": 7,
     "metadata": {},
     "output_type": "execute_result"
    }
   ],
   "source": [
    "x_train.shape"
   ]
  },
  {
   "cell_type": "code",
   "execution_count": 8,
   "metadata": {},
   "outputs": [
    {
     "data": {
      "text/plain": [
       "(60000,)"
      ]
     },
     "execution_count": 8,
     "metadata": {},
     "output_type": "execute_result"
    }
   ],
   "source": [
    "y_train.shape"
   ]
  },
  {
   "cell_type": "code",
   "execution_count": 9,
   "metadata": {},
   "outputs": [
    {
     "data": {
      "text/plain": [
       "(10000, 28, 28)"
      ]
     },
     "execution_count": 9,
     "metadata": {},
     "output_type": "execute_result"
    }
   ],
   "source": [
    "x_test.shape"
   ]
  },
  {
   "cell_type": "code",
   "execution_count": 10,
   "metadata": {},
   "outputs": [
    {
     "data": {
      "text/plain": [
       "(10000,)"
      ]
     },
     "execution_count": 10,
     "metadata": {},
     "output_type": "execute_result"
    }
   ],
   "source": [
    "y_test.shape"
   ]
  },
  {
   "cell_type": "markdown",
   "metadata": {},
   "source": [
    "There are 60000 samples in train data and 10000 samples in test data"
   ]
  },
  {
   "cell_type": "code",
   "execution_count": 11,
   "metadata": {
    "scrolled": false
   },
   "outputs": [
    {
     "data": {
      "text/plain": [
       "array([9, 0, 0, 3, 0, 2, 7, 2, 5, 5, 0, 9, 5, 5, 7, 9, 1, 0, 6, 4],\n",
       "      dtype=uint8)"
      ]
     },
     "execution_count": 11,
     "metadata": {},
     "output_type": "execute_result"
    }
   ],
   "source": [
    "y_train[:20]\n",
    "# To see the 1st 20 labels"
   ]
  },
  {
   "cell_type": "markdown",
   "metadata": {},
   "source": [
    "Labels are integers ranging from [0, 9]. So, they need to be one-hot-encoded."
   ]
  },
  {
   "cell_type": "markdown",
   "metadata": {},
   "source": [
    "Let's visulaize few samples of data"
   ]
  },
  {
   "cell_type": "code",
   "execution_count": 12,
   "metadata": {},
   "outputs": [],
   "source": [
    "r_choices = np.random.choice(range(len(y_train)), 3, replace=False)"
   ]
  },
  {
   "cell_type": "code",
   "execution_count": 13,
   "metadata": {},
   "outputs": [],
   "source": [
    "label_ref = [\"T-shirt/top\", \"Trouser\", \"Pullover\", \"Dress\", \"Coat\", \"Sandal\", \"Shirt\", \"Sneaker\", \"Bag\", \"Ankle boot\"]\n",
    "# Taken from Zalando github repo"
   ]
  },
  {
   "cell_type": "code",
   "execution_count": 14,
   "metadata": {},
   "outputs": [
    {
     "name": "stdout",
     "output_type": "stream",
     "text": [
      "Plot of Sandal\n"
     ]
    },
    {
     "data": {
      "text/plain": [
       "<matplotlib.image.AxesImage at 0x2144c3b6fd0>"
      ]
     },
     "execution_count": 14,
     "metadata": {},
     "output_type": "execute_result"
    },
    {
     "data": {
      "image/png": "[encoded data removed]",
      "text/plain": [
       "<Figure size 432x288 with 1 Axes>"
      ]
     },
     "metadata": {
      "needs_background": "light"
     },
     "output_type": "display_data"
    }
   ],
   "source": [
    "print(\"Plot of {}\".format(label_ref[y_train[r_choices[0]]]))\n",
    "plt.imshow(x_train[r_choices[0]], cmap='gray')"
   ]
  },
  {
   "cell_type": "code",
   "execution_count": 15,
   "metadata": {},
   "outputs": [
    {
     "name": "stdout",
     "output_type": "stream",
     "text": [
      "Plot of Sneaker\n"
     ]
    },
    {
     "data": {
      "text/plain": [
       "<matplotlib.image.AxesImage at 0x2144c462a20>"
      ]
     },
     "execution_count": 15,
     "metadata": {},
     "output_type": "execute_result"
    },
    {
     "data": {
      "image/png": "[encoded data removed]",
      "text/plain": [
       "<Figure size 432x288 with 1 Axes>"
      ]
     },
     "metadata": {
      "needs_background": "light"
     },
     "output_type": "display_data"
    }
   ],
   "source": [
    "print(\"Plot of {}\".format(label_ref[y_train[r_choices[1]]]))\n",
    "plt.imshow(x_train[r_choices[1]], cmap='gray')"
   ]
  },
  {
   "cell_type": "code",
   "execution_count": 16,
   "metadata": {},
   "outputs": [
    {
     "name": "stdout",
     "output_type": "stream",
     "text": [
      "Plot of Ankle boot\n"
     ]
    },
    {
     "data": {
      "text/plain": [
       "<matplotlib.image.AxesImage at 0x2144c4d23c8>"
      ]
     },
     "execution_count": 16,
     "metadata": {},
     "output_type": "execute_result"
    },
    {
     "data": {
      "image/png": "[encoded data removed]",
      "text/plain": [
       "<Figure size 432x288 with 1 Axes>"
      ]
     },
     "metadata": {
      "needs_background": "light"
     },
     "output_type": "display_data"
    }
   ],
   "source": [
    "print(\"Plot of {}\".format(label_ref[y_train[r_choices[2]]]))\n",
    "plt.imshow(x_train[r_choices[2]], cmap='gray')"
   ]
  },
  {
   "cell_type": "markdown",
   "metadata": {},
   "source": [
    "Let's see the values of one image sample"
   ]
  },
  {
   "cell_type": "code",
   "execution_count": 17,
   "metadata": {},
   "outputs": [
    {
     "data": {
      "text/plain": [
       "array([[  0,   0,   0,   0,   0,   0,   0,   0,   0,   0,   0,   0,   0,\n",
       "          0,   0,   0,   0,   0,   0,   0,   0,   0,   0,   0,   0,   0,\n",
       "          0,   0],\n",
       "       [  0,   0,   0,   0,   0,   0,   0,   0,   0,   0,   0,   0,   0,\n",
       "          0,   0,   0,   0,   0,   0,   0,   0,   0,   0,   0,   0,   0,\n",
       "          0,   0],\n",
       "       [  0,   0,   0,   0,   0,   0,   0,   0,   0,   0,   0,   0,   0,\n",
       "          0,   0,   0,   0,   0,   0,   0,   0,   0,   0,   0,   0,   0,\n",
       "          0,   0],\n",
       "       [  0,   0,   0,   0,   0,   0,   0,   0,   0,   0,   0,   0,   1,\n",
       "          0,   0,  13,  73,   0,   0,   1,   4,   0,   0,   0,   0,   1,\n",
       "          1,   0],\n",
       "       [  0,   0,   0,   0,   0,   0,   0,   0,   0,   0,   0,   0,   3,\n",
       "          0,  36, 136, 127,  62,  54,   0,   0,   0,   1,   3,   4,   0,\n",
       "          0,   3],\n",
       "       [  0,   0,   0,   0,   0,   0,   0,   0,   0,   0,   0,   0,   6,\n",
       "          0, 102, 204, 176, 134, 144, 123,  23,   0,   0,   0,   0,  12,\n",
       "         10,   0],\n",
       "       [  0,   0,   0,   0,   0,   0,   0,   0,   0,   0,   0,   0,   0,\n",
       "          0, 155, 236, 207, 178, 107, 156, 161, 109,  64,  23,  77, 130,\n",
       "         72,  15],\n",
       "       [  0,   0,   0,   0,   0,   0,   0,   0,   0,   0,   0,   1,   0,\n",
       "         69, 207, 223, 218, 216, 216, 163, 127, 121, 122, 146, 141,  88,\n",
       "        172,  66],\n",
       "       [  0,   0,   0,   0,   0,   0,   0,   0,   0,   1,   1,   1,   0,\n",
       "        200, 232, 232, 233, 229, 223, 223, 215, 213, 164, 127, 123, 196,\n",
       "        229,   0],\n",
       "       [  0,   0,   0,   0,   0,   0,   0,   0,   0,   0,   0,   0,   0,\n",
       "        183, 225, 216, 223, 228, 235, 227, 224, 222, 224, 221, 223, 245,\n",
       "        173,   0],\n",
       "       [  0,   0,   0,   0,   0,   0,   0,   0,   0,   0,   0,   0,   0,\n",
       "        193, 228, 218, 213, 198, 180, 212, 210, 211, 213, 223, 220, 243,\n",
       "        202,   0],\n",
       "       [  0,   0,   0,   0,   0,   0,   0,   0,   0,   1,   3,   0,  12,\n",
       "        219, 220, 212, 218, 192, 169, 227, 208, 218, 224, 212, 226, 197,\n",
       "        209,  52],\n",
       "       [  0,   0,   0,   0,   0,   0,   0,   0,   0,   0,   6,   0,  99,\n",
       "        244, 222, 220, 218, 203, 198, 221, 215, 213, 222, 220, 245, 119,\n",
       "        167,  56],\n",
       "       [  0,   0,   0,   0,   0,   0,   0,   0,   0,   4,   0,   0,  55,\n",
       "        236, 228, 230, 228, 240, 232, 213, 218, 223, 234, 217, 217, 209,\n",
       "         92,   0],\n",
       "       [  0,   0,   1,   4,   6,   7,   2,   0,   0,   0,   0,   0, 237,\n",
       "        226, 217, 223, 222, 219, 222, 221, 216, 223, 229, 215, 218, 255,\n",
       "         77,   0],\n",
       "       [  0,   3,   0,   0,   0,   0,   0,   0,   0,  62, 145, 204, 228,\n",
       "        207, 213, 221, 218, 208, 211, 218, 224, 223, 219, 215, 224, 244,\n",
       "        159,   0],\n",
       "       [  0,   0,   0,   0,  18,  44,  82, 107, 189, 228, 220, 222, 217,\n",
       "        226, 200, 205, 211, 230, 224, 234, 176, 188, 250, 248, 233, 238,\n",
       "        215,   0],\n",
       "       [  0,  57, 187, 208, 224, 221, 224, 208, 204, 214, 208, 209, 200,\n",
       "        159, 245, 193, 206, 223, 255, 255, 221, 234, 221, 211, 220, 232,\n",
       "        246,   0],\n",
       "       [  3, 202, 228, 224, 221, 211, 211, 214, 205, 205, 205, 220, 240,\n",
       "         80, 150, 255, 229, 221, 188, 154, 191, 210, 204, 209, 222, 228,\n",
       "        225,   0],\n",
       "       [ 98, 233, 198, 210, 222, 229, 229, 234, 249, 220, 194, 215, 217,\n",
       "        241,  65,  73, 106, 117, 168, 219, 221, 215, 217, 223, 223, 224,\n",
       "        229,  29],\n",
       "       [ 75, 204, 212, 204, 193, 205, 211, 225, 216, 185, 197, 206, 198,\n",
       "        213, 240, 195, 227, 245, 239, 223, 218, 212, 209, 222, 220, 221,\n",
       "        230,  67],\n",
       "       [ 48, 203, 183, 194, 213, 197, 185, 190, 194, 192, 202, 214, 219,\n",
       "        221, 220, 236, 225, 216, 199, 206, 186, 181, 177, 172, 181, 205,\n",
       "        206, 115],\n",
       "       [  0, 122, 219, 193, 179, 171, 183, 196, 204, 210, 213, 207, 211,\n",
       "        210, 200, 196, 194, 191, 195, 191, 198, 192, 176, 156, 167, 177,\n",
       "        210,  92],\n",
       "       [  0,   0,  74, 189, 212, 191, 175, 172, 175, 181, 185, 188, 189,\n",
       "        188, 193, 198, 204, 209, 210, 210, 211, 188, 188, 194, 192, 216,\n",
       "        170,   0],\n",
       "       [  2,   0,   0,   0,  66, 200, 222, 237, 239, 242, 246, 243, 244,\n",
       "        221, 220, 193, 191, 179, 182, 182, 181, 176, 166, 168,  99,  58,\n",
       "          0,   0],\n",
       "       [  0,   0,   0,   0,   0,   0,   0,  40,  61,  44,  72,  41,  35,\n",
       "          0,   0,   0,   0,   0,   0,   0,   0,   0,   0,   0,   0,   0,\n",
       "          0,   0],\n",
       "       [  0,   0,   0,   0,   0,   0,   0,   0,   0,   0,   0,   0,   0,\n",
       "          0,   0,   0,   0,   0,   0,   0,   0,   0,   0,   0,   0,   0,\n",
       "          0,   0],\n",
       "       [  0,   0,   0,   0,   0,   0,   0,   0,   0,   0,   0,   0,   0,\n",
       "          0,   0,   0,   0,   0,   0,   0,   0,   0,   0,   0,   0,   0,\n",
       "          0,   0]], dtype=uint8)"
      ]
     },
     "execution_count": 17,
     "metadata": {},
     "output_type": "execute_result"
    }
   ],
   "source": [
    "x_train[0]"
   ]
  },
  {
   "cell_type": "markdown",
   "metadata": {},
   "source": [
    "The greyscale values range from 0 to 255. So, these values need to be normalized."
   ]
  },
  {
   "cell_type": "markdown",
   "metadata": {},
   "source": [
    "### Data Preprocessing"
   ]
  },
  {
   "cell_type": "code",
   "execution_count": 18,
   "metadata": {},
   "outputs": [],
   "source": [
    "# Normalizing the data\n",
    "x_train = x_train / 255\n",
    "x_test = x_test / 255"
   ]
  },
  {
   "cell_type": "code",
   "execution_count": 19,
   "metadata": {},
   "outputs": [],
   "source": [
    "# One-hot-encoding the labels\n",
    "y_train = to_categorical(y_train, 10)\n",
    "y_test = to_categorical(y_test, 10)"
   ]
  },
  {
   "cell_type": "markdown",
   "metadata": {},
   "source": [
    "Each image in the data is in the form of (28,28). For Keras to be able to read this image, it has to be reshaped to (28,28,1)."
   ]
  },
  {
   "cell_type": "code",
   "execution_count": 20,
   "metadata": {},
   "outputs": [],
   "source": [
    "im_width = x_train[0].shape[0]\n",
    "im_height = x_train[0].shape[1]\n",
    "x_train = x_train.reshape(x_train.shape[0], im_width, im_height, 1)\n",
    "x_test = x_test.reshape(x_test.shape[0], im_width, im_height, 1)"
   ]
  },
  {
   "cell_type": "markdown",
   "metadata": {},
   "source": [
    "### Creating neural network"
   ]
  },
  {
   "cell_type": "code",
   "execution_count": 21,
   "metadata": {},
   "outputs": [],
   "source": [
    "model = Sequential()\n",
    "\n",
    "# 1st CNN layer\n",
    "model.add(Conv2D(filters=32, kernel_size=3, padding='same', activation='relu', input_shape=(28,28,1))) \n",
    "model.add(MaxPooling2D(pool_size=2))\n",
    "\n",
    "# 2nd CNN layer\n",
    "model.add(Conv2D(filters=64, kernel_size=2, padding='same', activation='relu'))\n",
    "model.add(MaxPooling2D(pool_size=2))\n",
    "\n",
    "model.add(Flatten())\n",
    "\n",
    "# 2 dense layers\n",
    "model.add(Dense(313, activation='relu'))\n",
    "model.add(Dropout(0.3))\n",
    "model.add(Dense(10, activation='softmax'))\n",
    "\n",
    "model.compile(loss='categorical_crossentropy', optimizer=Adam(lr = 0.001), metrics=['accuracy'])"
   ]
  },
  {
   "cell_type": "code",
   "execution_count": 22,
   "metadata": {},
   "outputs": [
    {
     "name": "stdout",
     "output_type": "stream",
     "text": [
      "_________________________________________________________________\n",
      "Layer (type)                 Output Shape              Param #   \n",
      "=================================================================\n",
      "conv2d_1 (Conv2D)            (None, 28, 28, 32)        320       \n",
      "_________________________________________________________________\n",
      "max_pooling2d_1 (MaxPooling2 (None, 14, 14, 32)        0         \n",
      "_________________________________________________________________\n",
      "conv2d_2 (Conv2D)            (None, 14, 14, 64)        8256      \n",
      "_________________________________________________________________\n",
      "max_pooling2d_2 (MaxPooling2 (None, 7, 7, 64)          0         \n",
      "_________________________________________________________________\n",
      "flatten_1 (Flatten)          (None, 3136)              0         \n",
      "_________________________________________________________________\n",
      "dense_1 (Dense)              (None, 313)               981881    \n",
      "_________________________________________________________________\n",
      "dropout_1 (Dropout)          (None, 313)               0         \n",
      "_________________________________________________________________\n",
      "dense_2 (Dense)              (None, 10)                3140      \n",
      "=================================================================\n",
      "Total params: 993,597\n",
      "Trainable params: 993,597\n",
      "Non-trainable params: 0\n",
      "_________________________________________________________________\n"
     ]
    }
   ],
   "source": [
    "model.summary()"
   ]
  },
  {
   "cell_type": "code",
   "execution_count": 23,
   "metadata": {},
   "outputs": [],
   "source": [
    "# Creating an inherited class to get and save training metrics\n",
    "class AccuracyHistory(Callback):\n",
    "    def on_train_begin(self, logs={}):\n",
    "        self.loss = []\n",
    "        self.acc = []\n",
    "        self.val_loss = []\n",
    "        self.val_acc = []\n",
    "\n",
    "    def on_epoch_end(self, batch, logs={}):\n",
    "        self.loss.append(logs.get('loss'))\n",
    "        self.acc.append(logs.get('acc'))\n",
    "        self.val_loss.append(logs.get('val_loss'))\n",
    "        self.val_acc.append(logs.get('val_acc'))\n",
    "\n",
    "history = AccuracyHistory()        "
   ]
  },
  {
   "cell_type": "code",
   "execution_count": 24,
   "metadata": {},
   "outputs": [],
   "source": [
    "# To save the neural network\n",
    "checkpointer = ModelCheckpoint(filepath='best_model.hdf5', verbose = 1, save_best_only=True)"
   ]
  },
  {
   "cell_type": "markdown",
   "metadata": {},
   "source": [
    "### Training the network"
   ]
  },
  {
   "cell_type": "code",
   "execution_count": 25,
   "metadata": {},
   "outputs": [],
   "source": [
    "tr_past = time.time()"
   ]
  },
  {
   "cell_type": "code",
   "execution_count": 26,
   "metadata": {
    "scrolled": true
   },
   "outputs": [
    {
     "name": "stdout",
     "output_type": "stream",
     "text": [
      "Train on 54600 samples, validate on 5400 samples\n",
      "Epoch 1/11\n",
      "54600/54600 [==============================] - 55s 1ms/step - loss: 0.4944 - acc: 0.8246 - val_loss: 0.3265 - val_acc: 0.8789\n",
      "\n",
      "Epoch 00001: val_loss improved from inf to 0.32646, saving model to best_model.hdf5\n",
      "Epoch 2/11\n",
      "54600/54600 [==============================] - 52s 953us/step - loss: 0.3152 - acc: 0.8875 - val_loss: 0.2701 - val_acc: 0.8994\n",
      "\n",
      "Epoch 00002: val_loss improved from 0.32646 to 0.27012, saving model to best_model.hdf5\n",
      "Epoch 3/11\n",
      "54600/54600 [==============================] - 63s 1ms/step - loss: 0.2746 - acc: 0.9001 - val_loss: 0.2622 - val_acc: 0.9013\n",
      "\n",
      "Epoch 00003: val_loss improved from 0.27012 to 0.26217, saving model to best_model.hdf5\n",
      "Epoch 4/11\n",
      "54600/54600 [==============================] - 61s 1ms/step - loss: 0.2415 - acc: 0.9118 - val_loss: 0.2312 - val_acc: 0.9102\n",
      "\n",
      "Epoch 00004: val_loss improved from 0.26217 to 0.23122, saving model to best_model.hdf5\n",
      "Epoch 5/11\n",
      "54600/54600 [==============================] - 57s 1ms/step - loss: 0.2201 - acc: 0.9197 - val_loss: 0.2231 - val_acc: 0.9167\n",
      "\n",
      "Epoch 00005: val_loss improved from 0.23122 to 0.22315, saving model to best_model.hdf5\n",
      "Epoch 6/11\n",
      "54600/54600 [==============================] - 57s 1ms/step - loss: 0.2017 - acc: 0.9246 - val_loss: 0.2413 - val_acc: 0.9087\n",
      "\n",
      "Epoch 00006: val_loss did not improve from 0.22315\n",
      "Epoch 7/11\n",
      "54600/54600 [==============================] - 55s 1ms/step - loss: 0.1834 - acc: 0.9331 - val_loss: 0.2023 - val_acc: 0.9248\n",
      "\n",
      "Epoch 00007: val_loss improved from 0.22315 to 0.20234, saving model to best_model.hdf5\n",
      "Epoch 8/11\n",
      "54600/54600 [==============================] - 55s 1ms/step - loss: 0.1711 - acc: 0.9370 - val_loss: 0.2163 - val_acc: 0.9215\n",
      "\n",
      "Epoch 00008: val_loss did not improve from 0.20234\n",
      "Epoch 9/11\n",
      "54600/54600 [==============================] - 57s 1ms/step - loss: 0.1546 - acc: 0.9424 - val_loss: 0.2054 - val_acc: 0.9281\n",
      "\n",
      "Epoch 00009: val_loss did not improve from 0.20234\n",
      "Epoch 10/11\n",
      "54600/54600 [==============================] - 55s 998us/step - loss: 0.1399 - acc: 0.9474 - val_loss: 0.2293 - val_acc: 0.9213\n",
      "\n",
      "Epoch 00010: val_loss did not improve from 0.20234\n",
      "Epoch 11/11\n",
      "54600/54600 [==============================] - 56s 1ms/step - loss: 0.1267 - acc: 0.9536 - val_loss: 0.2003 - val_acc: 0.9319\n",
      "\n",
      "Epoch 00011: val_loss improved from 0.20234 to 0.20034, saving model to best_model.hdf5\n"
     ]
    },
    {
     "data": {
      "text/plain": [
       "<keras.callbacks.History at 0x2144c4f5710>"
      ]
     },
     "execution_count": 26,
     "metadata": {},
     "output_type": "execute_result"
    }
   ],
   "source": [
    "model.fit(x_train, y_train, batch_size=120, epochs=10, validation_split=0.09 , callbacks=[history,checkpointer])"
   ]
  },
  {
   "cell_type": "code",
   "execution_count": 27,
   "metadata": {},
   "outputs": [
    {
     "data": {
      "image/png": "[encoded data removed]",
      "text/plain": [
       "<Figure size 432x288 with 1 Axes>"
      ]
     },
     "metadata": {
      "needs_background": "light"
     },
     "output_type": "display_data"
    }
   ],
   "source": [
    "plt.plot(range(11), history.loss)\n",
    "plt.plot(range(11), history.val_loss)\n",
    "plt.xlabel('Epochs')\n",
    "plt.legend(['Train Loss', 'Validation Loss'], loc='upper right')\n",
    "plt.show()"
   ]
  },
  {
   "cell_type": "code",
   "execution_count": 28,
   "metadata": {},
   "outputs": [
    {
     "data": {
      "image/png": "[encoded data removed]",
      "text/plain": [
       "<Figure size 432x288 with 1 Axes>"
      ]
     },
     "metadata": {
      "needs_background": "light"
     },
     "output_type": "display_data"
    }
   ],
   "source": [
    "plt.plot(range(11), history.acc)\n",
    "plt.plot(range(11), history.val_acc)\n",
    "plt.xlabel('Epochs')\n",
    "plt.legend(['Train Accuracy', 'Validation Accuracy'], loc='lower right')\n",
    "plt.show()"
   ]
  },
  {
   "cell_type": "code",
   "execution_count": 29,
   "metadata": {},
   "outputs": [
    {
     "name": "stdout",
     "output_type": "stream",
     "text": [
      "Time taken for training: 624.7655262947083 sec\n"
     ]
    }
   ],
   "source": [
    "print(\"Time taken for training: {} sec\".format(time.time() - tr_past))"
   ]
  },
  {
   "cell_type": "markdown",
   "metadata": {},
   "source": [
    "### Testing the network"
   ]
  },
  {
   "cell_type": "code",
   "execution_count": 30,
   "metadata": {},
   "outputs": [],
   "source": [
    "ts_past = time.time()"
   ]
  },
  {
   "cell_type": "code",
   "execution_count": 31,
   "metadata": {},
   "outputs": [
    {
     "data": {
      "text/plain": [
       "[0.22544371454715728, 0.9229]"
      ]
     },
     "execution_count": 31,
     "metadata": {},
     "output_type": "execute_result"
    }
   ],
   "source": [
    "model.load_weights('best_model.hdf5')\n",
    "model.evaluate(x_test, y_test, verbose=0)"
   ]
  },
  {
   "cell_type": "code",
   "execution_count": 32,
   "metadata": {},
   "outputs": [
    {
     "name": "stdout",
     "output_type": "stream",
     "text": [
      "Time taken for testing evaluation: 2.796217679977417 sec\n"
     ]
    }
   ],
   "source": [
    "print(\"Time taken for testing evaluation: {} sec\".format(time.time() - ts_past))"
   ]
  },
  {
   "cell_type": "code",
   "execution_count": 33,
   "metadata": {},
   "outputs": [],
   "source": [
    "y_pred = model.predict(x_test)\n",
    "matrix = confusion_matrix(y_test.argmax(axis=1), y_pred.argmax(axis=1))\n",
    "#matrix = pd.DataFrame(data = matrix, index = label_ref, columns = label_ref)"
   ]
  },
  {
   "cell_type": "code",
   "execution_count": 34,
   "metadata": {},
   "outputs": [],
   "source": [
    "tmp_acc = []\n",
    "total_acc = 0\n",
    "for i in range(len(matrix)):\n",
    "    tmp_acc.append(matrix[i][i]/sum(matrix[i]))\n",
    "    total_acc += matrix[i][i]\n",
    "total_acc = total_acc/sum(sum(matrix))\n",
    "last_row = [0 for i in range(10)]\n",
    "last_row.append(total_acc)"
   ]
  },
  {
   "cell_type": "code",
   "execution_count": 35,
   "metadata": {},
   "outputs": [],
   "source": [
    "df_matrix = pd.DataFrame(data = matrix, index = label_ref, columns = label_ref)\n",
    "df_matrix['Accuracy'] = tmp_acc\n",
    "df_matrix.loc['Total Accuracy'] = last_row"
   ]
  },
  {
   "cell_type": "code",
   "execution_count": 36,
   "metadata": {},
   "outputs": [],
   "source": [
    "def add_color(value):\n",
    "    if value < total_acc:\n",
    "        color = 'red'\n",
    "    elif value >= total_acc:\n",
    "        color = 'green'\n",
    "    return 'color: %s' % color\n",
    "\n",
    "df_matrix_sty = df_matrix.style.applymap(add_color, subset=['Accuracy'])"
   ]
  },
  {
   "cell_type": "code",
   "execution_count": 37,
   "metadata": {
    "scrolled": true
   },
   "outputs": [
    {
     "data": {
      "text/html": [
       "<style  type=\"text/css\" >\n",
       "    #T_59cdfec6_b2ea_11e9_a94b_ccb0dab50230row0_col10 {\n",
       "            color:  red;\n",
       "        }    #T_59cdfec6_b2ea_11e9_a94b_ccb0dab50230row1_col10 {\n",
       "            color:  green;\n",
       "        }    #T_59cdfec6_b2ea_11e9_a94b_ccb0dab50230row2_col10 {\n",
       "            color:  red;\n",
       "        }    #T_59cdfec6_b2ea_11e9_a94b_ccb0dab50230row3_col10 {\n",
       "            color:  red;\n",
       "        }    #T_59cdfec6_b2ea_11e9_a94b_ccb0dab50230row4_col10 {\n",
       "            color:  red;\n",
       "        }    #T_59cdfec6_b2ea_11e9_a94b_ccb0dab50230row5_col10 {\n",
       "            color:  green;\n",
       "        }    #T_59cdfec6_b2ea_11e9_a94b_ccb0dab50230row6_col10 {\n",
       "            color:  red;\n",
       "        }    #T_59cdfec6_b2ea_11e9_a94b_ccb0dab50230row7_col10 {\n",
       "            color:  green;\n",
       "        }    #T_59cdfec6_b2ea_11e9_a94b_ccb0dab50230row8_col10 {\n",
       "            color:  green;\n",
       "        }    #T_59cdfec6_b2ea_11e9_a94b_ccb0dab50230row9_col10 {\n",
       "            color:  green;\n",
       "        }    #T_59cdfec6_b2ea_11e9_a94b_ccb0dab50230row10_col10 {\n",
       "            color:  green;\n",
       "        }</style><table id=\"T_59cdfec6_b2ea_11e9_a94b_ccb0dab50230\" ><thead>    <tr>        <th class=\"blank level0\" ></th>        <th class=\"col_heading level0 col0\" >T-shirt/top</th>        <th class=\"col_heading level0 col1\" >Trouser</th>        <th class=\"col_heading level0 col2\" >Pullover</th>        <th class=\"col_heading level0 col3\" >Dress</th>        <th class=\"col_heading level0 col4\" >Coat</th>        <th class=\"col_heading level0 col5\" >Sandal</th>        <th class=\"col_heading level0 col6\" >Shirt</th>        <th class=\"col_heading level0 col7\" >Sneaker</th>        <th class=\"col_heading level0 col8\" >Bag</th>        <th class=\"col_heading level0 col9\" >Ankle boot</th>        <th class=\"col_heading level0 col10\" >Accuracy</th>    </tr></thead><tbody>\n",
       "                <tr>\n",
       "                        <th id=\"T_59cdfec6_b2ea_11e9_a94b_ccb0dab50230level0_row0\" class=\"row_heading level0 row0\" >T-shirt/top</th>\n",
       "                        <td id=\"T_59cdfec6_b2ea_11e9_a94b_ccb0dab50230row0_col0\" class=\"data row0 col0\" >896</td>\n",
       "                        <td id=\"T_59cdfec6_b2ea_11e9_a94b_ccb0dab50230row0_col1\" class=\"data row0 col1\" >0</td>\n",
       "                        <td id=\"T_59cdfec6_b2ea_11e9_a94b_ccb0dab50230row0_col2\" class=\"data row0 col2\" >18</td>\n",
       "                        <td id=\"T_59cdfec6_b2ea_11e9_a94b_ccb0dab50230row0_col3\" class=\"data row0 col3\" >13</td>\n",
       "                        <td id=\"T_59cdfec6_b2ea_11e9_a94b_ccb0dab50230row0_col4\" class=\"data row0 col4\" >6</td>\n",
       "                        <td id=\"T_59cdfec6_b2ea_11e9_a94b_ccb0dab50230row0_col5\" class=\"data row0 col5\" >1</td>\n",
       "                        <td id=\"T_59cdfec6_b2ea_11e9_a94b_ccb0dab50230row0_col6\" class=\"data row0 col6\" >61</td>\n",
       "                        <td id=\"T_59cdfec6_b2ea_11e9_a94b_ccb0dab50230row0_col7\" class=\"data row0 col7\" >0</td>\n",
       "                        <td id=\"T_59cdfec6_b2ea_11e9_a94b_ccb0dab50230row0_col8\" class=\"data row0 col8\" >5</td>\n",
       "                        <td id=\"T_59cdfec6_b2ea_11e9_a94b_ccb0dab50230row0_col9\" class=\"data row0 col9\" >0</td>\n",
       "                        <td id=\"T_59cdfec6_b2ea_11e9_a94b_ccb0dab50230row0_col10\" class=\"data row0 col10\" >0.896</td>\n",
       "            </tr>\n",
       "            <tr>\n",
       "                        <th id=\"T_59cdfec6_b2ea_11e9_a94b_ccb0dab50230level0_row1\" class=\"row_heading level0 row1\" >Trouser</th>\n",
       "                        <td id=\"T_59cdfec6_b2ea_11e9_a94b_ccb0dab50230row1_col0\" class=\"data row1 col0\" >0</td>\n",
       "                        <td id=\"T_59cdfec6_b2ea_11e9_a94b_ccb0dab50230row1_col1\" class=\"data row1 col1\" >986</td>\n",
       "                        <td id=\"T_59cdfec6_b2ea_11e9_a94b_ccb0dab50230row1_col2\" class=\"data row1 col2\" >0</td>\n",
       "                        <td id=\"T_59cdfec6_b2ea_11e9_a94b_ccb0dab50230row1_col3\" class=\"data row1 col3\" >9</td>\n",
       "                        <td id=\"T_59cdfec6_b2ea_11e9_a94b_ccb0dab50230row1_col4\" class=\"data row1 col4\" >3</td>\n",
       "                        <td id=\"T_59cdfec6_b2ea_11e9_a94b_ccb0dab50230row1_col5\" class=\"data row1 col5\" >0</td>\n",
       "                        <td id=\"T_59cdfec6_b2ea_11e9_a94b_ccb0dab50230row1_col6\" class=\"data row1 col6\" >1</td>\n",
       "                        <td id=\"T_59cdfec6_b2ea_11e9_a94b_ccb0dab50230row1_col7\" class=\"data row1 col7\" >0</td>\n",
       "                        <td id=\"T_59cdfec6_b2ea_11e9_a94b_ccb0dab50230row1_col8\" class=\"data row1 col8\" >1</td>\n",
       "                        <td id=\"T_59cdfec6_b2ea_11e9_a94b_ccb0dab50230row1_col9\" class=\"data row1 col9\" >0</td>\n",
       "                        <td id=\"T_59cdfec6_b2ea_11e9_a94b_ccb0dab50230row1_col10\" class=\"data row1 col10\" >0.986</td>\n",
       "            </tr>\n",
       "            <tr>\n",
       "                        <th id=\"T_59cdfec6_b2ea_11e9_a94b_ccb0dab50230level0_row2\" class=\"row_heading level0 row2\" >Pullover</th>\n",
       "                        <td id=\"T_59cdfec6_b2ea_11e9_a94b_ccb0dab50230row2_col0\" class=\"data row2 col0\" >16</td>\n",
       "                        <td id=\"T_59cdfec6_b2ea_11e9_a94b_ccb0dab50230row2_col1\" class=\"data row2 col1\" >1</td>\n",
       "                        <td id=\"T_59cdfec6_b2ea_11e9_a94b_ccb0dab50230row2_col2\" class=\"data row2 col2\" >900</td>\n",
       "                        <td id=\"T_59cdfec6_b2ea_11e9_a94b_ccb0dab50230row2_col3\" class=\"data row2 col3\" >6</td>\n",
       "                        <td id=\"T_59cdfec6_b2ea_11e9_a94b_ccb0dab50230row2_col4\" class=\"data row2 col4\" >43</td>\n",
       "                        <td id=\"T_59cdfec6_b2ea_11e9_a94b_ccb0dab50230row2_col5\" class=\"data row2 col5\" >0</td>\n",
       "                        <td id=\"T_59cdfec6_b2ea_11e9_a94b_ccb0dab50230row2_col6\" class=\"data row2 col6\" >33</td>\n",
       "                        <td id=\"T_59cdfec6_b2ea_11e9_a94b_ccb0dab50230row2_col7\" class=\"data row2 col7\" >0</td>\n",
       "                        <td id=\"T_59cdfec6_b2ea_11e9_a94b_ccb0dab50230row2_col8\" class=\"data row2 col8\" >1</td>\n",
       "                        <td id=\"T_59cdfec6_b2ea_11e9_a94b_ccb0dab50230row2_col9\" class=\"data row2 col9\" >0</td>\n",
       "                        <td id=\"T_59cdfec6_b2ea_11e9_a94b_ccb0dab50230row2_col10\" class=\"data row2 col10\" >0.9</td>\n",
       "            </tr>\n",
       "            <tr>\n",
       "                        <th id=\"T_59cdfec6_b2ea_11e9_a94b_ccb0dab50230level0_row3\" class=\"row_heading level0 row3\" >Dress</th>\n",
       "                        <td id=\"T_59cdfec6_b2ea_11e9_a94b_ccb0dab50230row3_col0\" class=\"data row3 col0\" >15</td>\n",
       "                        <td id=\"T_59cdfec6_b2ea_11e9_a94b_ccb0dab50230row3_col1\" class=\"data row3 col1\" >5</td>\n",
       "                        <td id=\"T_59cdfec6_b2ea_11e9_a94b_ccb0dab50230row3_col2\" class=\"data row3 col2\" >5</td>\n",
       "                        <td id=\"T_59cdfec6_b2ea_11e9_a94b_ccb0dab50230row3_col3\" class=\"data row3 col3\" >917</td>\n",
       "                        <td id=\"T_59cdfec6_b2ea_11e9_a94b_ccb0dab50230row3_col4\" class=\"data row3 col4\" >37</td>\n",
       "                        <td id=\"T_59cdfec6_b2ea_11e9_a94b_ccb0dab50230row3_col5\" class=\"data row3 col5\" >0</td>\n",
       "                        <td id=\"T_59cdfec6_b2ea_11e9_a94b_ccb0dab50230row3_col6\" class=\"data row3 col6\" >17</td>\n",
       "                        <td id=\"T_59cdfec6_b2ea_11e9_a94b_ccb0dab50230row3_col7\" class=\"data row3 col7\" >0</td>\n",
       "                        <td id=\"T_59cdfec6_b2ea_11e9_a94b_ccb0dab50230row3_col8\" class=\"data row3 col8\" >4</td>\n",
       "                        <td id=\"T_59cdfec6_b2ea_11e9_a94b_ccb0dab50230row3_col9\" class=\"data row3 col9\" >0</td>\n",
       "                        <td id=\"T_59cdfec6_b2ea_11e9_a94b_ccb0dab50230row3_col10\" class=\"data row3 col10\" >0.917</td>\n",
       "            </tr>\n",
       "            <tr>\n",
       "                        <th id=\"T_59cdfec6_b2ea_11e9_a94b_ccb0dab50230level0_row4\" class=\"row_heading level0 row4\" >Coat</th>\n",
       "                        <td id=\"T_59cdfec6_b2ea_11e9_a94b_ccb0dab50230row4_col0\" class=\"data row4 col0\" >1</td>\n",
       "                        <td id=\"T_59cdfec6_b2ea_11e9_a94b_ccb0dab50230row4_col1\" class=\"data row4 col1\" >0</td>\n",
       "                        <td id=\"T_59cdfec6_b2ea_11e9_a94b_ccb0dab50230row4_col2\" class=\"data row4 col2\" >46</td>\n",
       "                        <td id=\"T_59cdfec6_b2ea_11e9_a94b_ccb0dab50230row4_col3\" class=\"data row4 col3\" >12</td>\n",
       "                        <td id=\"T_59cdfec6_b2ea_11e9_a94b_ccb0dab50230row4_col4\" class=\"data row4 col4\" >915</td>\n",
       "                        <td id=\"T_59cdfec6_b2ea_11e9_a94b_ccb0dab50230row4_col5\" class=\"data row4 col5\" >0</td>\n",
       "                        <td id=\"T_59cdfec6_b2ea_11e9_a94b_ccb0dab50230row4_col6\" class=\"data row4 col6\" >26</td>\n",
       "                        <td id=\"T_59cdfec6_b2ea_11e9_a94b_ccb0dab50230row4_col7\" class=\"data row4 col7\" >0</td>\n",
       "                        <td id=\"T_59cdfec6_b2ea_11e9_a94b_ccb0dab50230row4_col8\" class=\"data row4 col8\" >0</td>\n",
       "                        <td id=\"T_59cdfec6_b2ea_11e9_a94b_ccb0dab50230row4_col9\" class=\"data row4 col9\" >0</td>\n",
       "                        <td id=\"T_59cdfec6_b2ea_11e9_a94b_ccb0dab50230row4_col10\" class=\"data row4 col10\" >0.915</td>\n",
       "            </tr>\n",
       "            <tr>\n",
       "                        <th id=\"T_59cdfec6_b2ea_11e9_a94b_ccb0dab50230level0_row5\" class=\"row_heading level0 row5\" >Sandal</th>\n",
       "                        <td id=\"T_59cdfec6_b2ea_11e9_a94b_ccb0dab50230row5_col0\" class=\"data row5 col0\" >0</td>\n",
       "                        <td id=\"T_59cdfec6_b2ea_11e9_a94b_ccb0dab50230row5_col1\" class=\"data row5 col1\" >0</td>\n",
       "                        <td id=\"T_59cdfec6_b2ea_11e9_a94b_ccb0dab50230row5_col2\" class=\"data row5 col2\" >0</td>\n",
       "                        <td id=\"T_59cdfec6_b2ea_11e9_a94b_ccb0dab50230row5_col3\" class=\"data row5 col3\" >0</td>\n",
       "                        <td id=\"T_59cdfec6_b2ea_11e9_a94b_ccb0dab50230row5_col4\" class=\"data row5 col4\" >0</td>\n",
       "                        <td id=\"T_59cdfec6_b2ea_11e9_a94b_ccb0dab50230row5_col5\" class=\"data row5 col5\" >987</td>\n",
       "                        <td id=\"T_59cdfec6_b2ea_11e9_a94b_ccb0dab50230row5_col6\" class=\"data row5 col6\" >0</td>\n",
       "                        <td id=\"T_59cdfec6_b2ea_11e9_a94b_ccb0dab50230row5_col7\" class=\"data row5 col7\" >7</td>\n",
       "                        <td id=\"T_59cdfec6_b2ea_11e9_a94b_ccb0dab50230row5_col8\" class=\"data row5 col8\" >0</td>\n",
       "                        <td id=\"T_59cdfec6_b2ea_11e9_a94b_ccb0dab50230row5_col9\" class=\"data row5 col9\" >6</td>\n",
       "                        <td id=\"T_59cdfec6_b2ea_11e9_a94b_ccb0dab50230row5_col10\" class=\"data row5 col10\" >0.987</td>\n",
       "            </tr>\n",
       "            <tr>\n",
       "                        <th id=\"T_59cdfec6_b2ea_11e9_a94b_ccb0dab50230level0_row6\" class=\"row_heading level0 row6\" >Shirt</th>\n",
       "                        <td id=\"T_59cdfec6_b2ea_11e9_a94b_ccb0dab50230row6_col0\" class=\"data row6 col0\" >123</td>\n",
       "                        <td id=\"T_59cdfec6_b2ea_11e9_a94b_ccb0dab50230row6_col1\" class=\"data row6 col1\" >0</td>\n",
       "                        <td id=\"T_59cdfec6_b2ea_11e9_a94b_ccb0dab50230row6_col2\" class=\"data row6 col2\" >59</td>\n",
       "                        <td id=\"T_59cdfec6_b2ea_11e9_a94b_ccb0dab50230row6_col3\" class=\"data row6 col3\" >27</td>\n",
       "                        <td id=\"T_59cdfec6_b2ea_11e9_a94b_ccb0dab50230row6_col4\" class=\"data row6 col4\" >79</td>\n",
       "                        <td id=\"T_59cdfec6_b2ea_11e9_a94b_ccb0dab50230row6_col5\" class=\"data row6 col5\" >0</td>\n",
       "                        <td id=\"T_59cdfec6_b2ea_11e9_a94b_ccb0dab50230row6_col6\" class=\"data row6 col6\" >703</td>\n",
       "                        <td id=\"T_59cdfec6_b2ea_11e9_a94b_ccb0dab50230row6_col7\" class=\"data row6 col7\" >0</td>\n",
       "                        <td id=\"T_59cdfec6_b2ea_11e9_a94b_ccb0dab50230row6_col8\" class=\"data row6 col8\" >9</td>\n",
       "                        <td id=\"T_59cdfec6_b2ea_11e9_a94b_ccb0dab50230row6_col9\" class=\"data row6 col9\" >0</td>\n",
       "                        <td id=\"T_59cdfec6_b2ea_11e9_a94b_ccb0dab50230row6_col10\" class=\"data row6 col10\" >0.703</td>\n",
       "            </tr>\n",
       "            <tr>\n",
       "                        <th id=\"T_59cdfec6_b2ea_11e9_a94b_ccb0dab50230level0_row7\" class=\"row_heading level0 row7\" >Sneaker</th>\n",
       "                        <td id=\"T_59cdfec6_b2ea_11e9_a94b_ccb0dab50230row7_col0\" class=\"data row7 col0\" >0</td>\n",
       "                        <td id=\"T_59cdfec6_b2ea_11e9_a94b_ccb0dab50230row7_col1\" class=\"data row7 col1\" >0</td>\n",
       "                        <td id=\"T_59cdfec6_b2ea_11e9_a94b_ccb0dab50230row7_col2\" class=\"data row7 col2\" >0</td>\n",
       "                        <td id=\"T_59cdfec6_b2ea_11e9_a94b_ccb0dab50230row7_col3\" class=\"data row7 col3\" >0</td>\n",
       "                        <td id=\"T_59cdfec6_b2ea_11e9_a94b_ccb0dab50230row7_col4\" class=\"data row7 col4\" >0</td>\n",
       "                        <td id=\"T_59cdfec6_b2ea_11e9_a94b_ccb0dab50230row7_col5\" class=\"data row7 col5\" >12</td>\n",
       "                        <td id=\"T_59cdfec6_b2ea_11e9_a94b_ccb0dab50230row7_col6\" class=\"data row7 col6\" >0</td>\n",
       "                        <td id=\"T_59cdfec6_b2ea_11e9_a94b_ccb0dab50230row7_col7\" class=\"data row7 col7\" >968</td>\n",
       "                        <td id=\"T_59cdfec6_b2ea_11e9_a94b_ccb0dab50230row7_col8\" class=\"data row7 col8\" >0</td>\n",
       "                        <td id=\"T_59cdfec6_b2ea_11e9_a94b_ccb0dab50230row7_col9\" class=\"data row7 col9\" >20</td>\n",
       "                        <td id=\"T_59cdfec6_b2ea_11e9_a94b_ccb0dab50230row7_col10\" class=\"data row7 col10\" >0.968</td>\n",
       "            </tr>\n",
       "            <tr>\n",
       "                        <th id=\"T_59cdfec6_b2ea_11e9_a94b_ccb0dab50230level0_row8\" class=\"row_heading level0 row8\" >Bag</th>\n",
       "                        <td id=\"T_59cdfec6_b2ea_11e9_a94b_ccb0dab50230row8_col0\" class=\"data row8 col0\" >2</td>\n",
       "                        <td id=\"T_59cdfec6_b2ea_11e9_a94b_ccb0dab50230row8_col1\" class=\"data row8 col1\" >1</td>\n",
       "                        <td id=\"T_59cdfec6_b2ea_11e9_a94b_ccb0dab50230row8_col2\" class=\"data row8 col2\" >1</td>\n",
       "                        <td id=\"T_59cdfec6_b2ea_11e9_a94b_ccb0dab50230row8_col3\" class=\"data row8 col3\" >4</td>\n",
       "                        <td id=\"T_59cdfec6_b2ea_11e9_a94b_ccb0dab50230row8_col4\" class=\"data row8 col4\" >0</td>\n",
       "                        <td id=\"T_59cdfec6_b2ea_11e9_a94b_ccb0dab50230row8_col5\" class=\"data row8 col5\" >1</td>\n",
       "                        <td id=\"T_59cdfec6_b2ea_11e9_a94b_ccb0dab50230row8_col6\" class=\"data row8 col6\" >1</td>\n",
       "                        <td id=\"T_59cdfec6_b2ea_11e9_a94b_ccb0dab50230row8_col7\" class=\"data row8 col7\" >3</td>\n",
       "                        <td id=\"T_59cdfec6_b2ea_11e9_a94b_ccb0dab50230row8_col8\" class=\"data row8 col8\" >987</td>\n",
       "                        <td id=\"T_59cdfec6_b2ea_11e9_a94b_ccb0dab50230row8_col9\" class=\"data row8 col9\" >0</td>\n",
       "                        <td id=\"T_59cdfec6_b2ea_11e9_a94b_ccb0dab50230row8_col10\" class=\"data row8 col10\" >0.987</td>\n",
       "            </tr>\n",
       "            <tr>\n",
       "                        <th id=\"T_59cdfec6_b2ea_11e9_a94b_ccb0dab50230level0_row9\" class=\"row_heading level0 row9\" >Ankle boot</th>\n",
       "                        <td id=\"T_59cdfec6_b2ea_11e9_a94b_ccb0dab50230row9_col0\" class=\"data row9 col0\" >0</td>\n",
       "                        <td id=\"T_59cdfec6_b2ea_11e9_a94b_ccb0dab50230row9_col1\" class=\"data row9 col1\" >0</td>\n",
       "                        <td id=\"T_59cdfec6_b2ea_11e9_a94b_ccb0dab50230row9_col2\" class=\"data row9 col2\" >0</td>\n",
       "                        <td id=\"T_59cdfec6_b2ea_11e9_a94b_ccb0dab50230row9_col3\" class=\"data row9 col3\" >0</td>\n",
       "                        <td id=\"T_59cdfec6_b2ea_11e9_a94b_ccb0dab50230row9_col4\" class=\"data row9 col4\" >0</td>\n",
       "                        <td id=\"T_59cdfec6_b2ea_11e9_a94b_ccb0dab50230row9_col5\" class=\"data row9 col5\" >3</td>\n",
       "                        <td id=\"T_59cdfec6_b2ea_11e9_a94b_ccb0dab50230row9_col6\" class=\"data row9 col6\" >1</td>\n",
       "                        <td id=\"T_59cdfec6_b2ea_11e9_a94b_ccb0dab50230row9_col7\" class=\"data row9 col7\" >26</td>\n",
       "                        <td id=\"T_59cdfec6_b2ea_11e9_a94b_ccb0dab50230row9_col8\" class=\"data row9 col8\" >0</td>\n",
       "                        <td id=\"T_59cdfec6_b2ea_11e9_a94b_ccb0dab50230row9_col9\" class=\"data row9 col9\" >970</td>\n",
       "                        <td id=\"T_59cdfec6_b2ea_11e9_a94b_ccb0dab50230row9_col10\" class=\"data row9 col10\" >0.97</td>\n",
       "            </tr>\n",
       "            <tr>\n",
       "                        <th id=\"T_59cdfec6_b2ea_11e9_a94b_ccb0dab50230level0_row10\" class=\"row_heading level0 row10\" >Total Accuracy</th>\n",
       "                        <td id=\"T_59cdfec6_b2ea_11e9_a94b_ccb0dab50230row10_col0\" class=\"data row10 col0\" >0</td>\n",
       "                        <td id=\"T_59cdfec6_b2ea_11e9_a94b_ccb0dab50230row10_col1\" class=\"data row10 col1\" >0</td>\n",
       "                        <td id=\"T_59cdfec6_b2ea_11e9_a94b_ccb0dab50230row10_col2\" class=\"data row10 col2\" >0</td>\n",
       "                        <td id=\"T_59cdfec6_b2ea_11e9_a94b_ccb0dab50230row10_col3\" class=\"data row10 col3\" >0</td>\n",
       "                        <td id=\"T_59cdfec6_b2ea_11e9_a94b_ccb0dab50230row10_col4\" class=\"data row10 col4\" >0</td>\n",
       "                        <td id=\"T_59cdfec6_b2ea_11e9_a94b_ccb0dab50230row10_col5\" class=\"data row10 col5\" >0</td>\n",
       "                        <td id=\"T_59cdfec6_b2ea_11e9_a94b_ccb0dab50230row10_col6\" class=\"data row10 col6\" >0</td>\n",
       "                        <td id=\"T_59cdfec6_b2ea_11e9_a94b_ccb0dab50230row10_col7\" class=\"data row10 col7\" >0</td>\n",
       "                        <td id=\"T_59cdfec6_b2ea_11e9_a94b_ccb0dab50230row10_col8\" class=\"data row10 col8\" >0</td>\n",
       "                        <td id=\"T_59cdfec6_b2ea_11e9_a94b_ccb0dab50230row10_col9\" class=\"data row10 col9\" >0</td>\n",
       "                        <td id=\"T_59cdfec6_b2ea_11e9_a94b_ccb0dab50230row10_col10\" class=\"data row10 col10\" >0.9229</td>\n",
       "            </tr>\n",
       "    </tbody></table>"
      ],
      "text/plain": [
       "<pandas.io.formats.style.Styler at 0x214679ec438>"
      ]
     },
     "execution_count": 37,
     "metadata": {},
     "output_type": "execute_result"
    }
   ],
   "source": [
    "df_matrix_sty"
   ]
  },
  {
   "cell_type": "code",
   "execution_count": null,
   "metadata": {},
   "outputs": [],
   "source": []
  }
 ],
 "metadata": {
  "kernelspec": {
   "display_name": "Python 3",
   "language": "python",
   "name": "python3"
  },
  "language_info": {
   "codemirror_mode": {
    "name": "ipython",
    "version": 3
   },
   "file_extension": ".py",
   "mimetype": "text/x-python",
   "name": "python",
   "nbconvert_exporter": "python",
   "pygments_lexer": "ipython3",
   "version": "3.6.7"
  }
 },
 "nbformat": 4,
 "nbformat_minor": 2
}
